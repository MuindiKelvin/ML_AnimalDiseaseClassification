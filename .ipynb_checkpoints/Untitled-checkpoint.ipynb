{
 "cells": [
  {
   "cell_type": "code",
   "execution_count": 1,
   "id": "5ebf081f-aa08-4c6a-a757-71b95fedb20e",
   "metadata": {},
   "outputs": [],
   "source": [
    "import pandas as pd\n",
    "from sklearn.model_selection import train_test_split\n",
    "from sklearn.preprocessing import OneHotEncoder\n",
    "from sklearn.impute import SimpleImputer\n",
    "from sklearn.linear_model import LogisticRegression\n",
    "from sklearn.ensemble import RandomForestClassifier\n",
    "from sklearn.tree import DecisionTreeClassifier\n",
    "from sklearn.svm import SVC\n",
    "from sklearn.neighbors import KNeighborsClassifier\n",
    "from sklearn.metrics import accuracy_score, precision_score, recall_score, f1_score, classification_report\n",
    "from imblearn.over_sampling import SMOTE"
   ]
  },
  {
   "cell_type": "code",
   "execution_count": 2,
   "id": "fdef439c-fec8-4824-83d0-7c2d8eb4779e",
   "metadata": {},
   "outputs": [],
   "source": [
    "# Load the resampled dataset\n",
    "file_path = r'C:\\Users\\kevzm\\Desktop\\Projects\\2024\\August\\Dissertations\\Haritha_Animal Diseases Classification Using Big Data Techniques\\Code\\Data\\data.csv'\n",
    "df_resampled = pd.read_csv(file_path)\n"
   ]
  },
  {
   "cell_type": "code",
   "execution_count": 3,
   "id": "543b67fb-4330-4e56-a2d4-9820f50cf9b3",
   "metadata": {},
   "outputs": [],
   "source": [
    "# Separate features and target\n",
    "X_resampled = df_resampled.drop(columns=['Dangerous'])\n",
    "y_resampled = df_resampled['Dangerous'].map({'Yes': 1, 'No': 0})  # Convert 'Yes'/'No' to 1/0\n",
    "\n",
    "# Split the data into training and testing sets\n",
    "X_train, X_test, y_train, y_test = train_test_split(X_resampled, y_resampled, test_size=0.2, random_state=42)"
   ]
  },
  {
   "cell_type": "code",
   "execution_count": 4,
   "id": "894aa2b3-63ff-4c15-96ad-1803dace1d60",
   "metadata": {},
   "outputs": [
    {
     "name": "stdout",
     "output_type": "stream",
     "text": [
      "--- Logistic Regression ---\n",
      "Accuracy: 0.5550\n",
      "Precision: 0.5657\n",
      "Recall: 0.5283\n",
      "F1 Score: 0.5463\n",
      "              precision    recall  f1-score   support\n",
      "\n",
      "           0       0.55      0.58      0.56       103\n",
      "           1       0.57      0.53      0.55       106\n",
      "\n",
      "    accuracy                           0.56       209\n",
      "   macro avg       0.56      0.56      0.55       209\n",
      "weighted avg       0.56      0.56      0.55       209\n",
      "\n",
      "\n",
      "\n",
      "--- Random Forest ---\n",
      "Accuracy: 0.5455\n",
      "Precision: 0.5647\n",
      "Recall: 0.4528\n",
      "F1 Score: 0.5026\n",
      "              precision    recall  f1-score   support\n",
      "\n",
      "           0       0.53      0.64      0.58       103\n",
      "           1       0.56      0.45      0.50       106\n",
      "\n",
      "    accuracy                           0.55       209\n",
      "   macro avg       0.55      0.55      0.54       209\n",
      "weighted avg       0.55      0.55      0.54       209\n",
      "\n",
      "\n",
      "\n",
      "--- Decision Tree ---\n",
      "Accuracy: 0.5311\n",
      "Precision: 0.5417\n",
      "Recall: 0.4906\n",
      "F1 Score: 0.5149\n",
      "              precision    recall  f1-score   support\n",
      "\n",
      "           0       0.52      0.57      0.55       103\n",
      "           1       0.54      0.49      0.51       106\n",
      "\n",
      "    accuracy                           0.53       209\n",
      "   macro avg       0.53      0.53      0.53       209\n",
      "weighted avg       0.53      0.53      0.53       209\n",
      "\n",
      "\n",
      "\n",
      "--- SVM ---\n",
      "Accuracy: 0.4880\n",
      "Precision: 0.4952\n",
      "Recall: 0.4906\n",
      "F1 Score: 0.4929\n",
      "              precision    recall  f1-score   support\n",
      "\n",
      "           0       0.48      0.49      0.48       103\n",
      "           1       0.50      0.49      0.49       106\n",
      "\n",
      "    accuracy                           0.49       209\n",
      "   macro avg       0.49      0.49      0.49       209\n",
      "weighted avg       0.49      0.49      0.49       209\n",
      "\n",
      "\n",
      "\n",
      "--- KNN ---\n",
      "Accuracy: 0.5359\n",
      "Precision: 0.5738\n",
      "Recall: 0.3302\n",
      "F1 Score: 0.4192\n",
      "              precision    recall  f1-score   support\n",
      "\n",
      "           0       0.52      0.75      0.61       103\n",
      "           1       0.57      0.33      0.42       106\n",
      "\n",
      "    accuracy                           0.54       209\n",
      "   macro avg       0.55      0.54      0.52       209\n",
      "weighted avg       0.55      0.54      0.51       209\n",
      "\n",
      "\n",
      "\n"
     ]
    }
   ],
   "source": [
    "# Train and evaluate models\n",
    "models = {\n",
    "    'Logistic Regression': LogisticRegression(),\n",
    "    'Random Forest': RandomForestClassifier(),\n",
    "    'Decision Tree': DecisionTreeClassifier(),\n",
    "    'SVM': SVC(),\n",
    "    'KNN': KNeighborsClassifier()\n",
    "}\n",
    "\n",
    "for model_name, model in models.items():\n",
    "    model.fit(X_train, y_train)\n",
    "    y_pred = model.predict(X_test)\n",
    "    \n",
    "    print(f\"--- {model_name} ---\")\n",
    "    print(f\"Accuracy: {accuracy_score(y_test, y_pred):.4f}\")\n",
    "    print(f\"Precision: {precision_score(y_test, y_pred):.4f}\")\n",
    "    print(f\"Recall: {recall_score(y_test, y_pred):.4f}\")\n",
    "    print(f\"F1 Score: {f1_score(y_test, y_pred):.4f}\")\n",
    "    print(classification_report(y_test, y_pred))\n",
    "    print(\"\\n\")\n"
   ]
  },
  {
   "cell_type": "code",
   "execution_count": 5,
   "id": "6bfc217a-404e-4824-bea4-afeb9dbaec88",
   "metadata": {},
   "outputs": [
    {
     "name": "stdout",
     "output_type": "stream",
     "text": [
      "Fitting 3 folds for each of 100 candidates, totalling 300 fits\n",
      "Best Random Forest Accuracy: 0.5502\n"
     ]
    }
   ],
   "source": [
    "from sklearn.model_selection import RandomizedSearchCV\n",
    "\n",
    "# Example: Tuning Random Forest\n",
    "param_dist = {\n",
    "    'n_estimators': [50, 100, 200],\n",
    "    'max_depth': [None, 10, 20, 30],\n",
    "    'min_samples_split': [2, 5, 10],\n",
    "    'min_samples_leaf': [1, 2, 4],\n",
    "    'bootstrap': [True, False]\n",
    "}\n",
    "\n",
    "rf = RandomForestClassifier()\n",
    "rf_random = RandomizedSearchCV(estimator=rf, param_distributions=param_dist, n_iter=100, cv=3, verbose=2, random_state=42, n_jobs=-1)\n",
    "rf_random.fit(X_train, y_train)\n",
    "\n",
    "# Evaluate the best model\n",
    "best_rf = rf_random.best_estimator_\n",
    "y_pred = best_rf.predict(X_test)\n",
    "print(f\"Best Random Forest Accuracy: {accuracy_score(y_test, y_pred):.4f}\")"
   ]
  },
  {
   "cell_type": "code",
   "execution_count": 6,
   "id": "781c3817-856a-4a88-90e0-b67743c83625",
   "metadata": {},
   "outputs": [
    {
     "name": "stdout",
     "output_type": "stream",
     "text": [
      "Fitting 3 folds for each of 200 candidates, totalling 600 fits\n",
      "Best Random Forest Accuracy: 0.5694\n"
     ]
    }
   ],
   "source": [
    "from sklearn.ensemble import RandomForestClassifier\n",
    "from sklearn.model_selection import RandomizedSearchCV\n",
    "from sklearn.metrics import accuracy_score\n",
    "\n",
    "# Expanded parameter grid\n",
    "param_dist = {\n",
    "    'n_estimators': [100, 200, 300, 500],\n",
    "    'max_depth': [None, 10, 20, 30, 40, 50],\n",
    "    'min_samples_split': [2, 5, 10, 15],\n",
    "    'min_samples_leaf': [1, 2, 4, 6],\n",
    "    'bootstrap': [True, False]\n",
    "}\n",
    "\n",
    "# Initialize RandomForestClassifier\n",
    "rf = RandomForestClassifier()\n",
    "\n",
    "# RandomizedSearchCV with more iterations\n",
    "rf_random = RandomizedSearchCV(estimator=rf, param_distributions=param_dist, n_iter=200, cv=3, verbose=2, random_state=42, n_jobs=-1)\n",
    "\n",
    "# Fit the model\n",
    "rf_random.fit(X_train, y_train)\n",
    "\n",
    "# Evaluate the best model\n",
    "best_rf = rf_random.best_estimator_\n",
    "y_pred = best_rf.predict(X_test)\n",
    "\n",
    "# Print the best accuracy\n",
    "print(f\"Best Random Forest Accuracy: {accuracy_score(y_test, y_pred):.4f}\")"
   ]
  },
  {
   "cell_type": "code",
   "execution_count": 7,
   "id": "89b64673-c63c-466f-ae77-3dd12ff64682",
   "metadata": {},
   "outputs": [
    {
     "name": "stdout",
     "output_type": "stream",
     "text": [
      "Fitting 3 folds for each of 100 candidates, totalling 300 fits\n"
     ]
    },
    {
     "name": "stderr",
     "output_type": "stream",
     "text": [
      "C:\\Users\\kevzm\\AppData\\Local\\Programs\\Python\\Python312\\Lib\\site-packages\\xgboost\\core.py:158: UserWarning: [22:43:43] WARNING: C:\\buildkite-agent\\builds\\buildkite-windows-cpu-autoscaling-group-i-06abd128ca6c1688d-1\\xgboost\\xgboost-ci-windows\\src\\learner.cc:740: \n",
      "Parameters: { \"use_label_encoder\" } are not used.\n",
      "\n",
      "  warnings.warn(smsg, UserWarning)\n"
     ]
    },
    {
     "name": "stdout",
     "output_type": "stream",
     "text": [
      "Best XGBoost Accuracy: 0.4833\n"
     ]
    }
   ],
   "source": [
    "from xgboost import XGBClassifier\n",
    "from sklearn.model_selection import RandomizedSearchCV\n",
    "\n",
    "# Define the parameter grid\n",
    "param_dist = {\n",
    "    'n_estimators': [100, 200, 300],\n",
    "    'max_depth': [3, 5, 7],\n",
    "    'learning_rate': [0.01, 0.1, 0.2],\n",
    "    'subsample': [0.8, 0.9, 1.0],\n",
    "    'colsample_bytree': [0.8, 0.9, 1.0]\n",
    "}\n",
    "\n",
    "# Initialize XGBClassifier\n",
    "xgb = XGBClassifier(use_label_encoder=False, eval_metric='logloss')\n",
    "\n",
    "# RandomizedSearchCV\n",
    "xgb_random = RandomizedSearchCV(estimator=xgb, param_distributions=param_dist, n_iter=100, cv=3, verbose=2, random_state=42, n_jobs=-1)\n",
    "xgb_random.fit(X_train, y_train)\n",
    "\n",
    "# Evaluate the best model\n",
    "best_xgb = xgb_random.best_estimator_\n",
    "y_pred = best_xgb.predict(X_test)\n",
    "print(f\"Best XGBoost Accuracy: {accuracy_score(y_test, y_pred):.4f}\")"
   ]
  },
  {
   "cell_type": "code",
   "execution_count": null,
   "id": "9c53bec4-0d30-4d7a-955b-157b3bf659a5",
   "metadata": {},
   "outputs": [],
   "source": []
  }
 ],
 "metadata": {
  "kernelspec": {
   "display_name": "Python 3 (ipykernel)",
   "language": "python",
   "name": "python3"
  },
  "language_info": {
   "codemirror_mode": {
    "name": "ipython",
    "version": 3
   },
   "file_extension": ".py",
   "mimetype": "text/x-python",
   "name": "python",
   "nbconvert_exporter": "python",
   "pygments_lexer": "ipython3",
   "version": "3.12.4"
  }
 },
 "nbformat": 4,
 "nbformat_minor": 5
}
